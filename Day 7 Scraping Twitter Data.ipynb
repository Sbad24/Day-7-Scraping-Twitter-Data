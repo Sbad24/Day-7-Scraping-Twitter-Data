{
 "cells": [
  {
   "cell_type": "markdown",
   "metadata": {
    "ExecuteTime": {
     "end_time": "2020-07-08T12:19:03.644993Z",
     "start_time": "2020-07-08T12:19:03.640007Z"
    }
   },
   "source": [
    "# Scraping Twitter for profile and Tweet\n",
    "\n",
    "__Objectives:__ is to scrape twitter data. This was also used during our capstone project 07/2020 in our boot camp and would like to acknowledge Team LeoDist :) \n",
    "\n",
    "Technology: Twint, Tweepy, twitter_scrapper, and GetTweet3\n"
   ]
  },
  {
   "attachments": {},
   "cell_type": "markdown",
   "metadata": {
    "ExecuteTime": {
     "end_time": "2020-07-08T12:19:18.497530Z",
     "start_time": "2020-07-08T12:19:18.493540Z"
    }
   },
   "source": [
    "## Using Twint https://github.com/twintproject/twint \n",
    "\n",
    "   Basic Options in tweet but need to install the python library\n",
    "<img src=\"images/image1.png\"/>\n",
    "    \n",
    "   "
   ]
  },
  {
   "cell_type": "markdown",
   "metadata": {},
   "source": [
    "### Create an userlist manually selected and saved it to text file (.txt)"
   ]
  },
  {
   "attachments": {},
   "cell_type": "markdown",
   "metadata": {},
   "source": [
    "#### Code Below must be in anaconda commandline in the twint directory\n",
    "\n",
    "<img src=\"images/image2.png\"/>"
   ]
  },
  {
   "cell_type": "markdown",
   "metadata": {},
   "source": [
    "###  Scrape from profile a userfined (userlist) and save to a csv file\n",
    "syntax : twint --userlist file.txt -- csv -o file.csv -- user-full\n",
    "    \n",
    "   \n",
    "file -- can be changed by userdefined\n",
    "\n",
    "output userprofile "
   ]
  },
  {
   "cell_type": "code",
   "execution_count": 8,
   "metadata": {
    "ExecuteTime": {
     "end_time": "2020-07-08T12:33:36.771399Z",
     "start_time": "2020-07-08T12:33:36.766429Z"
    }
   },
   "outputs": [],
   "source": [
    "#example must be in anaconda commandline \n",
    "#twint --userlist leodistlist.txt --csv -o leodistlist.csv --user-full"
   ]
  },
  {
   "cell_type": "markdown",
   "metadata": {},
   "source": [
    "##### Code Below must be in anaconda kernel "
   ]
  },
  {
   "cell_type": "markdown",
   "metadata": {
    "ExecuteTime": {
     "end_time": "2020-07-08T13:15:46.369012Z",
     "start_time": "2020-07-08T13:15:46.363035Z"
    }
   },
   "source": [
    "###  Scrape from tweets from a userfined (userlist) and save to a csv file\n",
    "\n",
    "with limit of 1000 tweets"
   ]
  },
  {
   "cell_type": "code",
   "execution_count": 2,
   "metadata": {
    "ExecuteTime": {
     "end_time": "2020-07-08T13:24:38.678518Z",
     "start_time": "2020-07-08T13:24:35.964707Z"
    }
   },
   "outputs": [],
   "source": [
    "import twint\n",
    "# Solve compatibility issues with notebooks and RunTime errors.\n",
    "import nest_asyncio\n",
    "nest_asyncio.apply()"
   ]
  },
  {
   "cell_type": "markdown",
   "metadata": {
    "ExecuteTime": {
     "end_time": "2020-07-08T14:11:07.823415Z",
     "start_time": "2020-07-08T14:11:07.808651Z"
    }
   },
   "source": [
    "#### Load list of username that you want to get information"
   ]
  },
  {
   "cell_type": "code",
   "execution_count": null,
   "metadata": {},
   "outputs": [],
   "source": [
    "#laod file \n",
    "#file -- can be changed by userdefined\n",
    "df = pd.read_csv('file'.csv)"
   ]
  },
  {
   "cell_type": "markdown",
   "metadata": {},
   "source": [
    "#### Loop list of account  and get their tweets with limit of 1000 each"
   ]
  },
  {
   "cell_type": "code",
   "execution_count": 6,
   "metadata": {
    "ExecuteTime": {
     "end_time": "2020-07-08T13:28:37.554265Z",
     "start_time": "2020-07-08T13:28:37.548811Z"
    }
   },
   "outputs": [],
   "source": [
    "#file -- can be changed by userdefined\n",
    "for username in df[0]:\n",
    "    try:\n",
    "        c = twint.Config()\n",
    "    c.Limit=1000\n",
    "        c.Debug = True\n",
    "        c.Username = username\n",
    "        c.Store_csv = True\n",
    "        c.Output = \"file.csv\"\n",
    "        twint.run.Search(c)\n",
    "    except ValueError:\n",
    "        pass"
   ]
  },
  {
   "cell_type": "markdown",
   "metadata": {
    "ExecuteTime": {
     "end_time": "2020-07-08T13:29:45.992364Z",
     "start_time": "2020-07-08T13:29:45.986944Z"
    }
   },
   "source": [
    "## Using tweepy https://www.tweepy.org/ \n",
    "\n",
    "Need to apply from API to get API usually it takes time. My application took 3-4weeks to get approved. Need twitter account and write up reason for the request"
   ]
  },
  {
   "cell_type": "markdown",
   "metadata": {
    "ExecuteTime": {
     "end_time": "2020-07-08T13:37:18.096228Z",
     "start_time": "2020-07-08T13:37:18.091359Z"
    }
   },
   "source": [
    "### Get profile info"
   ]
  },
  {
   "cell_type": "code",
   "execution_count": 10,
   "metadata": {
    "ExecuteTime": {
     "end_time": "2020-07-08T13:32:32.226043Z",
     "start_time": "2020-07-08T13:32:32.220056Z"
    }
   },
   "outputs": [],
   "source": [
    "# load necessary libraries\n",
    "import os\n",
    "import tweepy as tw\n",
    "import pandas as pd\n",
    "from twitter_scraper import get_tweets\n",
    "from twitter_scraper import get_trends\n",
    "from twitter_scraper import Profile\n",
    "import pandas as pd\n",
    "from time import sleep\n",
    "import numpy as np\n",
    "import random\n",
    "import pandas as pd"
   ]
  },
  {
   "cell_type": "code",
   "execution_count": null,
   "metadata": {},
   "outputs": [],
   "source": [
    "consumer_key= \n",
    "consumer_secret= \n",
    "access_token= \n",
    "access_token_secret= \n",
    "\n",
    "auth = tw.OAuthHandler(consumer_key, consumer_secret)\n",
    "auth.set_access_token(access_token, access_token_secret)\n",
    "api = tw.API(auth,wait_on_rate_limit=True)"
   ]
  },
  {
   "cell_type": "markdown",
   "metadata": {},
   "source": [
    "#### Load list of username that you want to get information"
   ]
  },
  {
   "cell_type": "code",
   "execution_count": null,
   "metadata": {},
   "outputs": [],
   "source": [
    "df = pd.read('file.csv')"
   ]
  },
  {
   "cell_type": "code",
   "execution_count": null,
   "metadata": {},
   "outputs": [],
   "source": [
    "twitter_id = df[0].tolist()\n",
    "twitter_id"
   ]
  },
  {
   "cell_type": "markdown",
   "metadata": {
    "ExecuteTime": {
     "end_time": "2020-07-08T13:43:44.778177Z",
     "start_time": "2020-07-08T13:43:44.772195Z"
    }
   },
   "source": [
    "#### Loop to get profile information"
   ]
  },
  {
   "cell_type": "code",
   "execution_count": null,
   "metadata": {},
   "outputs": [],
   "source": [
    "for iditer in twitter_id:\n",
    "    user = api.get_user(iditer) \n",
    "    name.append(user.name)\n",
    "    screen_name.append(user.screen_name)\n",
    "    location.append(user.location)\n",
    "    profile_location.append(user.profile_location)\n",
    "    description.append(user.description)\n",
    "    url.append(user.url)\n",
    "    followers_count.append(user.followers_count)\n",
    "    friends_count.append(user.friends_count)\n",
    "    created_at.append(user.created_at)\n",
    "    statuses_count.append(user.statuses_count)"
   ]
  },
  {
   "cell_type": "markdown",
   "metadata": {},
   "source": [
    "#### create a dataframe"
   ]
  },
  {
   "cell_type": "code",
   "execution_count": 16,
   "metadata": {
    "ExecuteTime": {
     "end_time": "2020-07-08T13:45:37.931054Z",
     "start_time": "2020-07-08T13:45:37.927061Z"
    }
   },
   "outputs": [],
   "source": [
    "df_final = pd.DataFrame(list(zip(twitter_id, screen_name, name, created_at, description, followers_count, friends_count, statuses_count, location, profile_location)),\n",
    "                       columns=['twitter_id', 'username', 'name', 'creation_date', 'description', 'followers', 'following', 'statuses_count', 'location', 'profile_location'])"
   ]
  },
  {
   "cell_type": "markdown",
   "metadata": {},
   "source": [
    "#### save dataframe to csv file"
   ]
  },
  {
   "cell_type": "code",
   "execution_count": null,
   "metadata": {},
   "outputs": [],
   "source": [
    "df_final.to_csv('file.csv')"
   ]
  },
  {
   "cell_type": "markdown",
   "metadata": {
    "ExecuteTime": {
     "end_time": "2020-07-08T13:49:57.832139Z",
     "start_time": "2020-07-08T13:49:57.826272Z"
    }
   },
   "source": [
    "## Using twitter_scraper  https://pypi.org/project/twitter-scraper/"
   ]
  },
  {
   "cell_type": "markdown",
   "metadata": {
    "ExecuteTime": {
     "end_time": "2020-07-08T14:02:30.941092Z",
     "start_time": "2020-07-08T14:02:30.936073Z"
    }
   },
   "source": [
    "###  Get user profile info"
   ]
  },
  {
   "cell_type": "code",
   "execution_count": null,
   "metadata": {},
   "outputs": [],
   "source": [
    "#libraries\n",
    "from twitter_scraper import get_tweets\n",
    "from twitter_scraper import get_trends\n",
    "from twitter_scraper import Profile\n",
    "import pandas as pd\n",
    "from time import sleep\n",
    "import numpy as np\n",
    "import random\n",
    "import pandas as pd\n",
    "import nest_asyncio\n",
    "nest_asyncio.apply()"
   ]
  },
  {
   "cell_type": "markdown",
   "metadata": {},
   "source": [
    "#### Load list of username that you want to get information"
   ]
  },
  {
   "cell_type": "code",
   "execution_count": null,
   "metadata": {},
   "outputs": [],
   "source": [
    "df = pd.read_csv('file.csv')"
   ]
  },
  {
   "cell_type": "markdown",
   "metadata": {},
   "source": [
    "#### loop to get the profile of userfined list"
   ]
  },
  {
   "cell_type": "code",
   "execution_count": null,
   "metadata": {},
   "outputs": [],
   "source": [
    "#create a for loop to the list to get the profile\n",
    "\n",
    "lst = []\n",
    "for sc_name in df['Screen Name']:\n",
    "    try:\n",
    "        profile = Profile(sc_name)\n",
    "        lst.append(profile.to_dict())\n",
    "        sleep(random.randint(3, 5))\n",
    "    except IndexError:\n",
    "        pass  "
   ]
  },
  {
   "cell_type": "markdown",
   "metadata": {
    "ExecuteTime": {
     "end_time": "2020-07-08T14:12:45.788080Z",
     "start_time": "2020-07-08T14:12:45.783538Z"
    }
   },
   "source": [
    "#### make the dictionary to a dataframe"
   ]
  },
  {
   "cell_type": "code",
   "execution_count": null,
   "metadata": {},
   "outputs": [],
   "source": [
    "#make dictionary to a dataframe\n",
    "\n",
    "df_scrape = pd.DataFrame(lst)\n",
    "df_scrape"
   ]
  },
  {
   "cell_type": "markdown",
   "metadata": {
    "ExecuteTime": {
     "end_time": "2020-07-08T14:13:13.859366Z",
     "start_time": "2020-07-08T14:13:13.853933Z"
    }
   },
   "source": [
    "#### save dataframe to csv"
   ]
  },
  {
   "cell_type": "code",
   "execution_count": null,
   "metadata": {},
   "outputs": [],
   "source": [
    "df_scrape.to_csv('file.csv')"
   ]
  },
  {
   "cell_type": "markdown",
   "metadata": {},
   "source": [
    "## Using GetOldTweets3 https://pypi.org/project/GetOldTweets3/"
   ]
  },
  {
   "cell_type": "markdown",
   "metadata": {},
   "source": [
    "### Getting tweets from username"
   ]
  },
  {
   "cell_type": "code",
   "execution_count": null,
   "metadata": {},
   "outputs": [],
   "source": [
    "#getting tweets from username\n",
    "\n",
    "import GetOldTweets3 as got\n",
    "\n",
    "#remove @ username\n",
    "\n",
    "def get_user_tweets():\n",
    "    tweetCriteria = got.manager.TweetCriteria().setUsername(\"username\")\\\n",
    "                                           .setSince(\"2018-01-05\")\\\n",
    "                                           .setUntil(\"2020-06-19\")\\\n",
    "                                           .setMaxTweets(100)\\\n",
    "                                           .setEmoji(\"unicode\")\n",
    "    tweets = got.manager.TweetManager.getTweets(tweetCriteria)\n",
    "    text_tweets = [[tweet.text] for tweet in tweets]\n",
    "    return text_tweets"
   ]
  }
 ],
 "metadata": {
  "kernelspec": {
   "display_name": "Python 3",
   "language": "python",
   "name": "python3"
  },
  "language_info": {
   "codemirror_mode": {
    "name": "ipython",
    "version": 3
   },
   "file_extension": ".py",
   "mimetype": "text/x-python",
   "name": "python",
   "nbconvert_exporter": "python",
   "pygments_lexer": "ipython3",
   "version": "3.7.7"
  },
  "toc": {
   "base_numbering": 1,
   "nav_menu": {},
   "number_sections": true,
   "sideBar": true,
   "skip_h1_title": false,
   "title_cell": "Table of Contents",
   "title_sidebar": "Contents",
   "toc_cell": false,
   "toc_position": {},
   "toc_section_display": true,
   "toc_window_display": false
  }
 },
 "nbformat": 4,
 "nbformat_minor": 4
}
